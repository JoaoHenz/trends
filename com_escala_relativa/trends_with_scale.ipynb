{
 "cells": [
  {
   "cell_type": "markdown",
   "id": "d78cb9cd-60a7-4d8c-86d2-4a5a5b805fa0",
   "metadata": {},
   "source": [
    "# Libraries"
   ]
  },
  {
   "cell_type": "code",
   "execution_count": 396,
   "id": "81cf6635-b491-4184-b363-f8c38eee5a09",
   "metadata": {},
   "outputs": [],
   "source": [
    "from operator import le\n",
    "from re import L\n",
    "from pytrends.request import TrendReq\n",
    "import matplotlib.pyplot as plt\n",
    "import pandas as pd\n",
    "import numpy as np\n",
    "from dateutil.relativedelta import relativedelta\n",
    "from datetime import date"
   ]
  },
  {
   "cell_type": "markdown",
   "id": "d01f9504-37df-401e-a466-283d42c61184",
   "metadata": {},
   "source": [
    "# Source"
   ]
  },
  {
   "cell_type": "code",
   "execution_count": 359,
   "id": "bb1b73ec-57d4-4a8f-a64e-9fe2fe2729b4",
   "metadata": {},
   "outputs": [],
   "source": [
    "def get_word_list():\n",
    "    word_list = []\n",
    "\n",
    "    # Read from file\n",
    "    with open(\"WordList.txt\", \"r\") as file:\n",
    "        # Read each line and append it to the list\n",
    "        for line in file:\n",
    "            word_list.append(line.strip())\n",
    "\n",
    "    return word_list\n"
   ]
  },
  {
   "cell_type": "code",
   "execution_count": 360,
   "id": "5234d671-6cea-4e2a-b8d0-07320c8c9a87",
   "metadata": {},
   "outputs": [],
   "source": [
    "def compare_word(a,b, timeframe):\n",
    "    pytrend = TrendReq()\n",
    "    pytrend.build_payload(kw_list = [a,b], timeframe = timeframe)\n",
    "    df_interest = pytrend.interest_over_time()\n",
    "    df_interest=df_interest.reset_index().drop('isPartial',axis=1)\n",
    "    df_interest['year_month'] = df_interest['date'].apply(lambda x : (x.year,x.month, x.day))\n",
    "    df_interest = df_interest.drop('date',axis=1)\n",
    "    df_interest = df_interest.groupby('year_month').mean().reset_index()\n",
    "    return df_interest"
   ]
  },
  {
   "cell_type": "code",
   "execution_count": 361,
   "id": "b20e2232-6cdb-4223-8b9f-a8fe6a637f58",
   "metadata": {},
   "outputs": [],
   "source": [
    "def get_relative_scores(all_words):\n",
    "    first_word = all_words[0]\n",
    "    scores = dict()\n",
    "    for i in range(1,len(all_words)):\n",
    "        print(\"word number {}\".format(i))\n",
    "        scores[i] = compare_word(first_word, all_words[i], timeframe)\n",
    "    return scores\n"
   ]
  },
  {
   "cell_type": "code",
   "execution_count": 391,
   "id": "fd45074f-664a-4605-82f8-c062f95b3068",
   "metadata": {},
   "outputs": [
    {
     "name": "stdout",
     "output_type": "stream",
     "text": [
      "word number 1\n",
      "word number 2\n",
      "word number 3\n",
      "word number 4\n",
      "word number 5\n",
      "word number 6\n",
      "word number 7\n",
      "word number 8\n",
      "word number 9\n",
      "word number 10\n",
      "word number 11\n",
      "word number 12\n",
      "word number 13\n",
      "word number 14\n"
     ]
    }
   ],
   "source": [
    "all_words = get_word_list()\n",
    "timeframe = 'today 5-y'\n",
    "scores = get_relative_scores(all_words)"
   ]
  },
  {
   "cell_type": "markdown",
   "id": "7f2f2426-75d5-4b9f-bf3c-616c8437f54b",
   "metadata": {},
   "source": [
    "# Método"
   ]
  },
  {
   "cell_type": "markdown",
   "id": "8f2fc5fc-590c-4051-9f78-549a5b148c33",
   "metadata": {},
   "source": [
    "- recebe lista de palavras\n",
    "- comparar palavras dois a dois usando a primeira palavra da lista\n",
    "- descarta da lista palavras que são incomparáveis com esta palavra \"base\"\n",
    "- com as palavras comparáveis, fazer ajuste de escala"
   ]
  },
  {
   "cell_type": "code",
   "execution_count": 392,
   "id": "48a666ca-7d25-4508-82a9-2dd449e2c031",
   "metadata": {},
   "outputs": [],
   "source": [
    "scores_adjusted = dict()\n",
    "first_word = all_words[0]\n",
    "non_zero_idx = 1\n",
    "comparable_words = dict()\n",
    "uncomparable = dict()\n",
    "for i in range(1,len(all_words)):\n",
    "    if scores[i][first_word].sum()>0:\n",
    "        comparable_words[all_words[i]] = scores[i].copy()\n",
    "    else:\n",
    "        uncomparable[all_words[i]] =  scores[i].copy()\n",
    "\n",
    "for k in comparable_words.keys():\n",
    "    max0 = comparable_words[k][first_word].max()\n",
    "    max1 =comparable_words[k][k].max()\n",
    "    if max0!=100:\n",
    "        comparable_words[k][k] = comparable_words[k][k]/max0 * 100\n",
    "        comparable_words[k][first_word] = comparable_words[k][first_word]/max0 *100"
   ]
  },
  {
   "cell_type": "code",
   "execution_count": 393,
   "id": "716777f2-091d-4177-8212-cc30bb943032",
   "metadata": {},
   "outputs": [],
   "source": [
    "comparable_list = list(comparable_words.keys())\n",
    "first_compared = comparable_list[0]\n",
    "df_compare = comparable_words[first_compared].copy()\n",
    "for i in range(1,len(comparable_list)):\n",
    "    w = comparable_list[i]\n",
    "    df_compare[w] = comparable_words[w][w]\n",
    "    \n",
    "df_final = df_compare.melt(['year_month'], \n",
    "        var_name=\"Palavra\", \n",
    "        value_name=\"Valor\")\n",
    "\n",
    "df_final = df_final.rename({\"year_month\" : \"Data\"},axis=1)\n",
    "df_final['Data'] = df_final['Data'].apply(lambda x: pd.to_datetime(\"{}/{}/{}\".format(x[0],x[1],x[2])))"
   ]
  },
  {
   "cell_type": "code",
   "execution_count": 394,
   "id": "f0a7e0fc-6670-45e4-93cd-63ba3de2b76f",
   "metadata": {},
   "outputs": [],
   "source": [
    "#Save csv file\n",
    "df_final.to_csv(\"ramoses.csv\", encoding = \"utf8\", sep=\";\", index=False, decimal = ',')"
   ]
  },
  {
   "cell_type": "markdown",
   "id": "99ce9e1f-fa16-459d-a491-60a76c096691",
   "metadata": {
    "tags": []
   },
   "source": [
    "# Gráfico"
   ]
  },
  {
   "cell_type": "code",
   "execution_count": 397,
   "id": "678086e8-2d57-4c65-869a-ed47f25827cf",
   "metadata": {},
   "outputs": [],
   "source": [
    "today = date.today()\n"
   ]
  },
  {
   "cell_type": "code",
   "execution_count": 400,
   "id": "0c527804-f670-46b5-8010-e1cfadbac55b",
   "metadata": {},
   "outputs": [
    {
     "data": {
      "text/plain": [
       "datetime.date(2022, 9, 10)"
      ]
     },
     "execution_count": 400,
     "metadata": {},
     "output_type": "execute_result"
    }
   ],
   "source": []
  },
  {
   "cell_type": "code",
   "execution_count": 436,
   "id": "6b2489c5-c6c0-4a69-b0b1-3889cad4c655",
   "metadata": {},
   "outputs": [
    {
     "data": {
      "image/png": "[encoded data removed]",
      "text/plain": [
       "<Figure size 720x432 with 1 Axes>"
      ]
     },
     "metadata": {
      "needs_background": "light"
     },
     "output_type": "display_data"
    }
   ],
   "source": [
    "df = df_final.copy()\n",
    "tipo_data = \"year\"\n",
    "numero_meses = 36 #escolher no máximo 5 anos\n",
    "\n",
    "\n",
    "datamin = pd.to_datetime(today - relativedelta(months = numero_meses))\n",
    "df = df[df[\"Data\"]>=datamin]\n",
    "\n",
    "#Remove keywords (set 1==0 to disable)\n",
    "if 1==0:\n",
    "    drop_list = [\"Animação de logotipo\",\n",
    "    \"Stop motion\",\n",
    "     \"Parallax\",\n",
    "                 \"Keyframes\",\n",
    "                 \"Storytelling visual\"\n",
    "    ]\n",
    "    for c in drop_list:  \n",
    "        df = df[df[\"Palavra\"]!= c]\n",
    "\n",
    "# Manually convert 'Data' column to datetime format\n",
    "if tipo_data == \"year\":\n",
    "    df['Data'] = pd.to_datetime(df['Data'], format='%Y-%m-%d')\n",
    "    df['Data'] = df['Data'].dt.year\n",
    "    df = df.groupby([\"Data\",\"Palavra\"]).sum().reset_index()\n",
    "elif tipo_data == \"month\":\n",
    "    df['Data'] = df['Data'].apply(lambda x: pd.to_datetime(\"{}/{}/{}\".format(x.year,x.month,1)).date())\n",
    "    df = df.groupby([\"Data\",\"Palavra\"]).sum().reset_index()\n",
    "elif tipo_data == \"week\":\n",
    "    df['Data'] = df['Data'].apply(lambda x: pd.to_datetime(\"{}/{}/{}\".format(x.year,x.month,x.day)).date())\n",
    "    df = df.groupby([\"Data\",\"Palavra\"]).sum().reset_index()\n",
    "    \n",
    "    \n",
    "uncomparable2 = df[[\"Palavra\",\"Valor\"]].groupby(\"Palavra\").sum().reset_index()\n",
    "uncomparable2 = uncomparable2[uncomparable2[\"Valor\"]==0].copy()\n",
    "uncomparable2 = list(uncomparable2[\"Palavra\"])\n",
    "uncomparable2 = uncomparable2 + list(uncomparable.keys())\n",
    "\n",
    "# Group by 'Data' and 'Palavra', then calculate the sum of 'Valor'\n",
    "pivot_df = df.groupby(['Data', 'Palavra'])['Valor'].sum().unstack(fill_value=0)\n",
    "\n",
    "# Calculate percentages\n",
    "pivot_df = pivot_df.div(pivot_df.sum(axis=1), axis=0) * 100\n",
    "pivot_df = pivot_df.drop(uncomparable2,axis=1)\n",
    "\n",
    "# Create a stacked bar graph\n",
    "ax = pivot_df.plot(kind='bar', stacked=True, figsize = (10,6), colormap  = plt.get_cmap('nipy_spectral'), edgecolor='white')\n",
    "\n",
    "# Set labels and title\n",
    "plt.xlabel('Data')\n",
    "plt.ylabel('Proporção')\n",
    "plt.xticks(rotation = 0)\n",
    "plt.title('')\n",
    "\n",
    "# Add a legend\n",
    "plt.legend(title='Palavra', loc='center left', bbox_to_anchor=(1, 0.5))\n",
    "\n",
    "\n",
    "# Show the graph\n",
    "plt.show()"
   ]
  },
  {
   "cell_type": "markdown",
   "id": "7537c1c3-de7c-4d5b-8aa2-85769392d486",
   "metadata": {},
   "source": [
    "# Keywords incomparáveis"
   ]
  },
  {
   "cell_type": "code",
   "execution_count": 437,
   "id": "727bf71e-0296-4cc9-ab8e-c6c6b3d7d29f",
   "metadata": {},
   "outputs": [
    {
     "name": "stdout",
     "output_type": "stream",
     "text": [
      "Incomparáveis\n",
      "['Looping de animação', 'Princípios da animação', 'Timings e easing', 'Transições animadas', 'Vídeos promocionais']\n"
     ]
    }
   ],
   "source": [
    "print(\"Incomparáveis\")\n",
    "print(uncomparable2)"
   ]
  }
 ],
 "metadata": {
  "kernelspec": {
   "display_name": "Python 3 (ipykernel)",
   "language": "python",
   "name": "python3"
  },
  "language_info": {
   "codemirror_mode": {
    "name": "ipython",
    "version": 3
   },
   "file_extension": ".py",
   "mimetype": "text/x-python",
   "name": "python",
   "nbconvert_exporter": "python",
   "pygments_lexer": "ipython3",
   "version": "3.8.10"
  }
 },
 "nbformat": 4,
 "nbformat_minor": 5
}
